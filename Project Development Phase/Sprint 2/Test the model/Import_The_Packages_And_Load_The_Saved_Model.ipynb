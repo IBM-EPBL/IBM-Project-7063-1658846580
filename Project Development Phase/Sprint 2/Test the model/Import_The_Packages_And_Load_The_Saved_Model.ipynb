{
  "nbformat": 4,
  "nbformat_minor": 0,
  "metadata": {
    "colab": {
      "provenance": []
    },
    "kernelspec": {
      "name": "python3",
      "display_name": "Python 3"
    },
    "language_info": {
      "name": "python"
    },
    "accelerator": "GPU",
    "gpuClass": "standard"
  },
  "cells": [
    {
      "cell_type": "markdown",
      "source": [
        "# **Real-Time Communication System Powered By AI For Specially Abled**"
      ],
      "metadata": {
        "id": "XWVMxbSOeEih"
      }
    },
    {
      "cell_type": "markdown",
      "source": [
        "**Loading the Dataset & Image Data Generation**"
      ],
      "metadata": {
        "id": "sGHqClXNeHee"
      }
    },
    {
      "cell_type": "code",
      "execution_count": 2,
      "metadata": {
        "id": "cQlswkLJcFPJ"
      },
      "outputs": [],
      "source": [
        "from tensorflow.keras.preprocessing.image import ImageDataGenerator"
      ]
    },
    {
      "cell_type": "code",
      "source": [
        "# Training Datagen\n",
        "train_datagen = ImageDataGenerator(rescale=1/255,zoom_range=0.2,horizontal_flip=True,vertical_flip=False)\n",
        "# Testing Datagen\n",
        "test_datagen = ImageDataGenerator(rescale=1/255)"
      ],
      "metadata": {
        "id": "UQ3YbhlOeP5A"
      },
      "execution_count": 3,
      "outputs": []
    },
    {
      "cell_type": "code",
      "source": [
        "# Training Dataset\n",
        "x_train=train_datagen.flow_from_directory(r'/content/drive/MyDrive/Dataset/training_set',target_size=(64,64), class_mode='categorical',batch_size=900)\n",
        "# Testing Dataset\n",
        "x_test=test_datagen.flow_from_directory(r'/content/drive/MyDrive/Dataset/test_set',target_size=(64,64), class_mode='categorical',batch_size=900)"
      ],
      "metadata": {
        "colab": {
          "base_uri": "https://localhost:8080/"
        },
        "id": "N_vF2E-feSRe",
        "outputId": "4d329696-9915-4253-f6ca-bcfb8f1fb981"
      },
      "execution_count": 4,
      "outputs": [
        {
          "output_type": "stream",
          "name": "stdout",
          "text": [
            "Found 15790 images belonging to 9 classes.\n",
            "Found 2250 images belonging to 9 classes.\n"
          ]
        }
      ]
    },
    {
      "cell_type": "code",
      "source": [
        "print(\"Len x-train : \", len(x_train))\n",
        "print(\"Len x-test : \", len(x_test))"
      ],
      "metadata": {
        "colab": {
          "base_uri": "https://localhost:8080/"
        },
        "id": "jADjmHw-eVW-",
        "outputId": "aea9b6d0-8590-4e85-8b35-d0593f9fb83a"
      },
      "execution_count": 5,
      "outputs": [
        {
          "output_type": "stream",
          "name": "stdout",
          "text": [
            "Len x-train :  18\n",
            "Len x-test :  3\n"
          ]
        }
      ]
    },
    {
      "cell_type": "code",
      "source": [
        "# The Class Indices in Training Dataset\n",
        "x_train.class_indices"
      ],
      "metadata": {
        "colab": {
          "base_uri": "https://localhost:8080/"
        },
        "id": "m0a-Mqq8eYVN",
        "outputId": "a59bd22f-45da-4a3d-cd46-cbdd34afbb60"
      },
      "execution_count": 6,
      "outputs": [
        {
          "output_type": "execute_result",
          "data": {
            "text/plain": [
              "{'A': 0, 'B': 1, 'C': 2, 'D': 3, 'E': 4, 'F': 5, 'G': 6, 'H': 7, 'I': 8}"
            ]
          },
          "metadata": {},
          "execution_count": 6
        }
      ]
    },
    {
      "cell_type": "markdown",
      "source": [
        "**Model Creation**"
      ],
      "metadata": {
        "id": "8vz0vo7SefAN"
      }
    },
    {
      "cell_type": "code",
      "source": [
        "# Importing Libraries\n",
        "from tensorflow.keras.models import Sequential\n",
        "from tensorflow.keras.layers import Convolution2D,MaxPooling2D,Flatten,Dense"
      ],
      "metadata": {
        "id": "56PTtUw7eiol"
      },
      "execution_count": 7,
      "outputs": []
    },
    {
      "cell_type": "code",
      "source": [
        "# Creating Model\n",
        "model=Sequential()"
      ],
      "metadata": {
        "id": "sJr8bOzoesTH"
      },
      "execution_count": 8,
      "outputs": []
    },
    {
      "cell_type": "code",
      "source": [
        "# Adding Layers\n",
        "model.add(Convolution2D(32,(3,3),activation='relu',input_shape=(64,64,3)))"
      ],
      "metadata": {
        "id": "k3gudQceeuSU"
      },
      "execution_count": 9,
      "outputs": []
    },
    {
      "cell_type": "code",
      "source": [
        "model.add(MaxPooling2D(pool_size=(2,2)))"
      ],
      "metadata": {
        "id": "7J8OzaaxewWF"
      },
      "execution_count": 10,
      "outputs": []
    },
    {
      "cell_type": "code",
      "source": [
        "model.add(Flatten())"
      ],
      "metadata": {
        "id": "loQKaa0nezuO"
      },
      "execution_count": 11,
      "outputs": []
    },
    {
      "cell_type": "code",
      "source": [
        "# Adding Dense Layers\n",
        "model.add(Dense(300,activation='relu'))\n",
        "model.add(Dense(150,activation='relu'))\n",
        "model.add(Dense(9,activation='softmax'))"
      ],
      "metadata": {
        "id": "QbcUCu64e1sE"
      },
      "execution_count": 12,
      "outputs": []
    },
    {
      "cell_type": "code",
      "source": [
        "# Compiling the Model\n",
        "model.compile(loss='categorical_crossentropy',optimizer='adam',metrics=['accuracy'])"
      ],
      "metadata": {
        "id": "7IxFSQHwe39c"
      },
      "execution_count": 13,
      "outputs": []
    },
    {
      "cell_type": "code",
      "source": [
        "# Fitting the Model Generator\n",
        "model.fit_generator(x_train,steps_per_epoch=len(x_train),epochs=10,validation_data=x_test,validation_steps=len(x_test))"
      ],
      "metadata": {
        "colab": {
          "base_uri": "https://localhost:8080/"
        },
        "id": "J_5lEGk-e8YO",
        "outputId": "4180b173-ca4c-447c-a15c-6c4655a10097"
      },
      "execution_count": 18,
      "outputs": [
        {
          "output_type": "stream",
          "name": "stderr",
          "text": [
            "/usr/local/lib/python3.7/dist-packages/ipykernel_launcher.py:2: UserWarning: `Model.fit_generator` is deprecated and will be removed in a future version. Please use `Model.fit`, which supports generators.\n",
            "  \n"
          ]
        },
        {
          "output_type": "stream",
          "name": "stdout",
          "text": [
            "Epoch 1/10\n",
            "18/18 [==============================] - 40s 2s/step - loss: 0.0029 - accuracy: 0.9997 - val_loss: 0.2953 - val_accuracy: 0.9756\n",
            "Epoch 2/10\n",
            "18/18 [==============================] - 37s 2s/step - loss: 0.0024 - accuracy: 0.9996 - val_loss: 0.3036 - val_accuracy: 0.9756\n",
            "Epoch 3/10\n",
            "18/18 [==============================] - 38s 2s/step - loss: 0.0021 - accuracy: 0.9994 - val_loss: 0.2955 - val_accuracy: 0.9760\n",
            "Epoch 4/10\n",
            "18/18 [==============================] - 38s 2s/step - loss: 0.0021 - accuracy: 0.9997 - val_loss: 0.3081 - val_accuracy: 0.9760\n",
            "Epoch 5/10\n",
            "18/18 [==============================] - 38s 2s/step - loss: 0.0015 - accuracy: 0.9997 - val_loss: 0.3243 - val_accuracy: 0.9769\n",
            "Epoch 6/10\n",
            "18/18 [==============================] - 38s 2s/step - loss: 0.0017 - accuracy: 0.9997 - val_loss: 0.2896 - val_accuracy: 0.9760\n",
            "Epoch 7/10\n",
            "18/18 [==============================] - 38s 2s/step - loss: 0.0029 - accuracy: 0.9994 - val_loss: 0.3081 - val_accuracy: 0.9764\n",
            "Epoch 8/10\n",
            "18/18 [==============================] - 37s 2s/step - loss: 0.0023 - accuracy: 0.9995 - val_loss: 0.3059 - val_accuracy: 0.9760\n",
            "Epoch 9/10\n",
            "18/18 [==============================] - 38s 2s/step - loss: 0.0017 - accuracy: 0.9997 - val_loss: 0.3023 - val_accuracy: 0.9760\n",
            "Epoch 10/10\n",
            "18/18 [==============================] - 38s 2s/step - loss: 0.0010 - accuracy: 0.9999 - val_loss: 0.3162 - val_accuracy: 0.9764\n"
          ]
        },
        {
          "output_type": "execute_result",
          "data": {
            "text/plain": [
              "<keras.callbacks.History at 0x7f38e0039450>"
            ]
          },
          "metadata": {},
          "execution_count": 18
        }
      ]
    },
    {
      "cell_type": "markdown",
      "source": [
        "**Saving the Model**"
      ],
      "metadata": {
        "id": "O6dh0DIDfRT9"
      }
    },
    {
      "cell_type": "code",
      "source": [
        "model.save('asl_model_84_54.h5')"
      ],
      "metadata": {
        "id": "TxCYJpOYfWJG"
      },
      "execution_count": 15,
      "outputs": []
    },
    {
      "cell_type": "markdown",
      "source": [
        "**Testing the model**"
      ],
      "metadata": {
        "id": "q7kjb1ohfb9t"
      }
    },
    {
      "cell_type": "code",
      "source": [
        "import numpy as np\n",
        "from tensorflow.keras.models import load_model\n",
        "from tensorflow.keras.preprocessing import image"
      ],
      "metadata": {
        "id": "jfQuFN5bfeQF"
      },
      "execution_count": 16,
      "outputs": []
    },
    {
      "cell_type": "code",
      "source": [
        "model=load_model('asl_model_84_54.h5')\n",
        "img=image.load_img(r'/content/drive/MyDrive/Dataset/test_set/D/2.png',\n",
        "                   target_size=(64,64))"
      ],
      "metadata": {
        "id": "92-y3Ulmfgjk"
      },
      "execution_count": 17,
      "outputs": []
    }
  ]
}