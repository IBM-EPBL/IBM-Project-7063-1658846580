{
  "cells": [
    {
      "cell_type": "markdown",
      "metadata": {
        "id": "XWVMxbSOeEih"
      },
      "source": [
        "# **Real-Time Communication System Powered By AI For Specially Abled**"
      ]
    },
    {
      "cell_type": "markdown",
      "metadata": {
        "id": "sGHqClXNeHee"
      },
      "source": [
        "**Loading the Dataset & Image Data Generation**"
      ]
    },
    {
      "cell_type": "code",
      "execution_count": null,
      "metadata": {
        "id": "cQlswkLJcFPJ"
      },
      "outputs": [],
      "source": [
        "from tensorflow.keras.preprocessing.image import ImageDataGenerator"
      ]
    },
    {
      "cell_type": "code",
      "execution_count": null,
      "metadata": {
        "id": "UQ3YbhlOeP5A"
      },
      "outputs": [],
      "source": [
        "# Training Datagen\n",
        "train_datagen = ImageDataGenerator(rescale=1/255,zoom_range=0.2,horizontal_flip=True,vertical_flip=False)\n",
        "# Testing Datagen\n",
        "test_datagen = ImageDataGenerator(rescale=1/255)"
      ]
    },
    {
      "cell_type": "code",
      "execution_count": null,
      "metadata": {
        "colab": {
          "base_uri": "https://localhost:8080/"
        },
        "id": "N_vF2E-feSRe",
        "outputId": "4d329696-9915-4253-f6ca-bcfb8f1fb981"
      },
      "outputs": [
        {
          "name": "stdout",
          "output_type": "stream",
          "text": [
            "Found 15790 images belonging to 9 classes.\n",
            "Found 2250 images belonging to 9 classes.\n"
          ]
        }
      ],
      "source": [
        "# Training Dataset\n",
        "x_train=train_datagen.flow_from_directory(r'/content/drive/MyDrive/Dataset/training_set',target_size=(64,64), class_mode='categorical',batch_size=900)\n",
        "# Testing Dataset\n",
        "x_test=test_datagen.flow_from_directory(r'/content/drive/MyDrive/Dataset/test_set',target_size=(64,64), class_mode='categorical',batch_size=900)"
      ]
    },
    {
      "cell_type": "code",
      "execution_count": null,
      "metadata": {
        "colab": {
          "base_uri": "https://localhost:8080/"
        },
        "id": "jADjmHw-eVW-",
        "outputId": "aea9b6d0-8590-4e85-8b35-d0593f9fb83a"
      },
      "outputs": [
        {
          "name": "stdout",
          "output_type": "stream",
          "text": [
            "Len x-train :  18\n",
            "Len x-test :  3\n"
          ]
        }
      ],
      "source": [
        "print(\"Len x-train : \", len(x_train))\n",
        "print(\"Len x-test : \", len(x_test))"
      ]
    },
    {
      "cell_type": "code",
      "execution_count": null,
      "metadata": {
        "colab": {
          "base_uri": "https://localhost:8080/"
        },
        "id": "m0a-Mqq8eYVN",
        "outputId": "a59bd22f-45da-4a3d-cd46-cbdd34afbb60"
      },
      "outputs": [
        {
          "data": {
            "text/plain": [
              "{'A': 0, 'B': 1, 'C': 2, 'D': 3, 'E': 4, 'F': 5, 'G': 6, 'H': 7, 'I': 8}"
            ]
          },
          "execution_count": 6,
          "metadata": {},
          "output_type": "execute_result"
        }
      ],
      "source": [
        "# The Class Indices in Training Dataset\n",
        "x_train.class_indices"
      ]
    },
    {
      "cell_type": "markdown",
      "metadata": {
        "id": "8vz0vo7SefAN"
      },
      "source": [
        "**Model Creation**"
      ]
    },
    {
      "cell_type": "code",
      "execution_count": null,
      "metadata": {
        "id": "56PTtUw7eiol"
      },
      "outputs": [],
      "source": [
        "# Importing Libraries\n",
        "from tensorflow.keras.models import Sequential\n",
        "from tensorflow.keras.layers import Convolution2D,MaxPooling2D,Flatten,Dense"
      ]
    },
    {
      "cell_type": "code",
      "execution_count": null,
      "metadata": {
        "id": "sJr8bOzoesTH"
      },
      "outputs": [],
      "source": [
        "# Creating Model\n",
        "model=Sequential()"
      ]
    },
    {
      "cell_type": "code",
      "execution_count": null,
      "metadata": {
        "id": "k3gudQceeuSU"
      },
      "outputs": [],
      "source": [
        "# Adding Layers\n",
        "model.add(Convolution2D(32,(3,3),activation='relu',input_shape=(64,64,3)))"
      ]
    },
    {
      "cell_type": "code",
      "execution_count": null,
      "metadata": {
        "id": "7J8OzaaxewWF"
      },
      "outputs": [],
      "source": [
        "model.add(MaxPooling2D(pool_size=(2,2)))"
      ]
    },
    {
      "cell_type": "code",
      "execution_count": null,
      "metadata": {
        "id": "loQKaa0nezuO"
      },
      "outputs": [],
      "source": [
        "model.add(Flatten())"
      ]
    },
    {
      "cell_type": "code",
      "execution_count": null,
      "metadata": {
        "id": "QbcUCu64e1sE"
      },
      "outputs": [],
      "source": [
        "# Adding Dense Layers\n",
        "model.add(Dense(300,activation='relu'))\n",
        "model.add(Dense(150,activation='relu'))\n",
        "model.add(Dense(9,activation='softmax'))"
      ]
    },
    {
      "cell_type": "code",
      "execution_count": null,
      "metadata": {
        "id": "7IxFSQHwe39c"
      },
      "outputs": [],
      "source": [
        "# Compiling the Model\n",
        "model.compile(loss='categorical_crossentropy',optimizer='adam',metrics=['accuracy'])"
      ]
    },
    {
      "cell_type": "code",
      "execution_count": null,
      "metadata": {
        "colab": {
          "background_save": true,
          "base_uri": "https://localhost:8080/"
        },
        "id": "J_5lEGk-e8YO",
        "outputId": "d74c2c7f-e02c-4298-bccf-0494c44f11dc"
      },
      "outputs": [
        {
          "name": "stderr",
          "output_type": "stream",
          "text": [
            "/usr/local/lib/python3.7/dist-packages/ipykernel_launcher.py:2: UserWarning: `Model.fit_generator` is deprecated and will be removed in a future version. Please use `Model.fit`, which supports generators.\n",
            "  \n"
          ]
        },
        {
          "name": "stdout",
          "output_type": "stream",
          "text": [
            "Epoch 1/10\n",
            "18/18 [==============================] - 3218s 179s/step - loss: 1.3716 - accuracy: 0.5778 - val_loss: 0.4882 - val_accuracy: 0.8902\n",
            "Epoch 2/10\n",
            "18/18 [==============================] - 96s 5s/step - loss: 0.3283 - accuracy: 0.9061 - val_loss: 0.2874 - val_accuracy: 0.8987\n",
            "Epoch 3/10\n",
            "18/18 [==============================] - 98s 5s/step - loss: 0.1325 - accuracy: 0.9637 - val_loss: 0.1553 - val_accuracy: 0.9542\n",
            "Epoch 4/10\n",
            "18/18 [==============================] - 94s 5s/step - loss: 0.0712 - accuracy: 0.9814 - val_loss: 0.1503 - val_accuracy: 0.9738\n",
            "Epoch 5/10\n",
            "18/18 [==============================] - 92s 5s/step - loss: 0.0421 - accuracy: 0.9893 - val_loss: 0.1425 - val_accuracy: 0.9751\n",
            "Epoch 6/10\n",
            "18/18 [==============================] - 89s 5s/step - loss: 0.0261 - accuracy: 0.9935 - val_loss: 0.1384 - val_accuracy: 0.9796\n",
            "Epoch 7/10\n",
            "18/18 [==============================] - 90s 5s/step - loss: 0.0166 - accuracy: 0.9961 - val_loss: 0.1543 - val_accuracy: 0.9778\n",
            "Epoch 8/10\n",
            "18/18 [==============================] - 94s 5s/step - loss: 0.0124 - accuracy: 0.9974 - val_loss: 0.1979 - val_accuracy: 0.9778\n",
            "Epoch 9/10\n",
            "18/18 [==============================] - 91s 5s/step - loss: 0.0072 - accuracy: 0.9987 - val_loss: 0.1610 - val_accuracy: 0.9791\n",
            "Epoch 10/10\n",
            "18/18 [==============================] - 95s 5s/step - loss: 0.0061 - accuracy: 0.9991 - val_loss: 0.1853 - val_accuracy: 0.9782\n"
          ]
        },
        {
          "data": {
            "text/plain": [
              "<keras.callbacks.History at 0x7f0d120a9690>"
            ]
          },
          "execution_count": 20,
          "metadata": {},
          "output_type": "execute_result"
        }
      ],
      "source": [
        "# Fitting the Model Generator\n",
        "model.fit_generator(x_train,steps_per_epoch=len(x_train),epochs=10,validation_data=x_test,validation_steps=len(x_test))"
      ]
    },
    {
      "cell_type": "markdown",
      "metadata": {
        "id": "O6dh0DIDfRT9"
      },
      "source": [
        "**Saving the Model**"
      ]
    },
    {
      "cell_type": "code",
      "execution_count": null,
      "metadata": {
        "id": "TxCYJpOYfWJG"
      },
      "outputs": [],
      "source": [
        "model.save('deafanddumb.h5')"
      ]
    },
    {
      "cell_type": "markdown",
      "metadata": {
        "id": "q7kjb1ohfb9t"
      },
      "source": [
        "**Testing the model**"
      ]
    },
    {
      "cell_type": "code",
      "execution_count": null,
      "metadata": {
        "id": "jfQuFN5bfeQF"
      },
      "outputs": [],
      "source": [
        "import numpy as np\n",
        "from tensorflow.keras.models import load_model\n",
        "from tensorflow.keras.preprocessing import image"
      ]
    },
    {
      "cell_type": "code",
      "execution_count": null,
      "metadata": {
        "id": "92-y3Ulmfgjk"
      },
      "outputs": [],
      "source": [
        "model=load_model('deafanddumb.h5')\n",
        "img=image.load_img(r'/content/drive/MyDrive/Dataset/test_set/D/2.png',\n",
        "                   target_size=(64,64))"
      ]
    }
  ],
  "metadata": {
    "accelerator": "GPU",
    "colab": {
      "provenance": []
    },
    "gpuClass": "standard",
    "kernelspec": {
      "display_name": "Python 3",
      "name": "python3"
    },
    "language_info": {
      "name": "python"
    }
  },
  "nbformat": 4,
  "nbformat_minor": 0
}