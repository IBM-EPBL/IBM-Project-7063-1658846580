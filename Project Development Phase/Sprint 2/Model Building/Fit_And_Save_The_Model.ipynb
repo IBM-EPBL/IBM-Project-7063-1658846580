{
  "cells": [
    {
      "cell_type": "markdown",
      "metadata": {
        "id": "UOWIBycdLsbL"
      },
      "source": [
        "# **Real-Time Communication System Powered By AI For Specially Abled**"
      ]
    },
    {
      "cell_type": "markdown",
      "metadata": {
        "id": "6v_D-sKqLw0y"
      },
      "source": [
        "**Loading the Dataset & Image Data Generation**"
      ]
    },
    {
      "cell_type": "code",
      "execution_count": 3,
      "metadata": {
        "id": "7yDpY5vVL6bB"
      },
      "outputs": [],
      "source": [
        "from tensorflow.keras.preprocessing.image import ImageDataGenerator"
      ]
    },
    {
      "cell_type": "code",
      "execution_count": 4,
      "metadata": {
        "id": "r7q4YkziMAz0"
      },
      "outputs": [],
      "source": [
        "# Training Datagen\n",
        "train_datagen = ImageDataGenerator(rescale=1/255,zoom_range=0.2,horizontal_flip=True,vertical_flip=False)\n",
        "# Testing Datagen\n",
        "test_datagen = ImageDataGenerator(rescale=1/255)"
      ]
    },
    {
      "cell_type": "code",
      "execution_count": 5,
      "metadata": {
        "colab": {
          "base_uri": "https://localhost:8080/"
        },
        "id": "w874esOQMPYk",
        "outputId": "c043539c-e94f-4fa0-ad42-310c2177e8c6"
      },
      "outputs": [
        {
          "output_type": "stream",
          "name": "stdout",
          "text": [
            "Found 15753 images belonging to 9 classes.\n",
            "Found 2250 images belonging to 9 classes.\n"
          ]
        }
      ],
      "source": [
        "# Training Dataset\n",
        "x_train=train_datagen.flow_from_directory(r'/content/drive/MyDrive/Dataset/training_set',target_size=(64,64), class_mode='categorical',batch_size=900)\n",
        "# Testing Dataset\n",
        "x_test=test_datagen.flow_from_directory(r'/content/drive/MyDrive/Dataset/test_set',target_size=(64,64), class_mode='categorical',batch_size=900)"
      ]
    },
    {
      "cell_type": "code",
      "execution_count": 6,
      "metadata": {
        "colab": {
          "base_uri": "https://localhost:8080/"
        },
        "id": "O40us5nfMSnI",
        "outputId": "b9635a8c-00e5-4d55-dd00-c9f286da13d5"
      },
      "outputs": [
        {
          "output_type": "stream",
          "name": "stdout",
          "text": [
            "Len x-train :  18\n",
            "Len x-test :  3\n"
          ]
        }
      ],
      "source": [
        "print(\"Len x-train : \", len(x_train))\n",
        "print(\"Len x-test : \", len(x_test))"
      ]
    },
    {
      "cell_type": "code",
      "execution_count": 7,
      "metadata": {
        "colab": {
          "base_uri": "https://localhost:8080/"
        },
        "id": "16ZuCkxMMXC9",
        "outputId": "9191d15e-496a-4188-dd36-6e282c79f1c1"
      },
      "outputs": [
        {
          "output_type": "execute_result",
          "data": {
            "text/plain": [
              "{'A': 0, 'B': 1, 'C': 2, 'D': 3, 'E': 4, 'F': 5, 'G': 6, 'H': 7, 'I': 8}"
            ]
          },
          "metadata": {},
          "execution_count": 7
        }
      ],
      "source": [
        "# The Class Indices in Training Dataset\n",
        "x_train.class_indices"
      ]
    },
    {
      "cell_type": "markdown",
      "metadata": {
        "id": "9LgnsljtMcJb"
      },
      "source": [
        "**Model Creation**"
      ]
    },
    {
      "cell_type": "code",
      "execution_count": 8,
      "metadata": {
        "id": "o4E7YPoKMgPj"
      },
      "outputs": [],
      "source": [
        "# Importing Libraries\n",
        "from tensorflow.keras.models import Sequential\n",
        "from tensorflow.keras.layers import Convolution2D,MaxPooling2D,Flatten,Dense"
      ]
    },
    {
      "cell_type": "code",
      "execution_count": 9,
      "metadata": {
        "id": "s_z3YT-IMl5y"
      },
      "outputs": [],
      "source": [
        "# Creating Model\n",
        "model=Sequential()"
      ]
    },
    {
      "cell_type": "code",
      "execution_count": 10,
      "metadata": {
        "id": "p2LUeAUWMpnM"
      },
      "outputs": [],
      "source": [
        "# Adding Layers\n",
        "model.add(Convolution2D(32,(3,3),activation='relu',input_shape=(64,64,3)))"
      ]
    },
    {
      "cell_type": "code",
      "execution_count": 11,
      "metadata": {
        "id": "4YMK_4TCMuKB"
      },
      "outputs": [],
      "source": [
        "model.add(MaxPooling2D(pool_size=(2,2)))"
      ]
    },
    {
      "cell_type": "code",
      "execution_count": 12,
      "metadata": {
        "id": "O5MppEUMMy5o"
      },
      "outputs": [],
      "source": [
        "model.add(Flatten())"
      ]
    },
    {
      "cell_type": "code",
      "execution_count": 13,
      "metadata": {
        "id": "C8ZfpVkiM2hp"
      },
      "outputs": [],
      "source": [
        "# Adding Dense Layers\n",
        "model.add(Dense(300,activation='relu'))\n",
        "model.add(Dense(150,activation='relu'))\n",
        "model.add(Dense(9,activation='softmax'))"
      ]
    },
    {
      "cell_type": "code",
      "execution_count": 14,
      "metadata": {
        "id": "aaY36-XmM_VN"
      },
      "outputs": [],
      "source": [
        "# Compiling the Model\n",
        "model.compile(loss='categorical_crossentropy',optimizer='adam',metrics=['accuracy'])"
      ]
    },
    {
      "cell_type": "code",
      "execution_count": 15,
      "metadata": {
        "colab": {
          "base_uri": "https://localhost:8080/"
        },
        "id": "nvCwp0KvNAXH",
        "outputId": "166e3696-2d5a-4fd8-9f50-89a4d37ac890"
      },
      "outputs": [
        {
          "metadata": {
            "tags": null
          },
          "name": "stderr",
          "output_type": "stream",
          "text": [
            "/usr/local/lib/python3.7/dist-packages/ipykernel_launcher.py:2: UserWarning: `Model.fit_generator` is deprecated and will be removed in a future version. Please use `Model.fit`, which supports generators.\n",
            "  \n"
          ]
        },
        {
          "output_type": "stream",
          "name": "stdout",
          "text": [
            "Epoch 1/10\n",
            "18/18 [==============================] - 7087s 395s/step - loss: 1.1818 - accuracy: 0.6056 - val_loss: 0.4473 - val_accuracy: 0.9040\n",
            "Epoch 2/10\n",
            "18/18 [==============================] - 41s 2s/step - loss: 0.2649 - accuracy: 0.9199 - val_loss: 0.2534 - val_accuracy: 0.9356\n",
            "Epoch 3/10\n",
            "18/18 [==============================] - 40s 2s/step - loss: 0.1156 - accuracy: 0.9676 - val_loss: 0.2053 - val_accuracy: 0.9622\n",
            "Epoch 4/10\n",
            "18/18 [==============================] - 40s 2s/step - loss: 0.0607 - accuracy: 0.9845 - val_loss: 0.2135 - val_accuracy: 0.9711\n",
            "Epoch 5/10\n",
            "18/18 [==============================] - 41s 2s/step - loss: 0.0393 - accuracy: 0.9899 - val_loss: 0.2001 - val_accuracy: 0.9738\n",
            "Epoch 6/10\n",
            "18/18 [==============================] - 41s 2s/step - loss: 0.0223 - accuracy: 0.9947 - val_loss: 0.1745 - val_accuracy: 0.9769\n",
            "Epoch 7/10\n",
            "18/18 [==============================] - 40s 2s/step - loss: 0.0164 - accuracy: 0.9963 - val_loss: 0.1947 - val_accuracy: 0.9773\n",
            "Epoch 8/10\n",
            "18/18 [==============================] - 40s 2s/step - loss: 0.0124 - accuracy: 0.9973 - val_loss: 0.2184 - val_accuracy: 0.9778\n",
            "Epoch 9/10\n",
            "18/18 [==============================] - 41s 2s/step - loss: 0.0090 - accuracy: 0.9985 - val_loss: 0.1695 - val_accuracy: 0.9778\n",
            "Epoch 10/10\n",
            "18/18 [==============================] - 41s 2s/step - loss: 0.0075 - accuracy: 0.9987 - val_loss: 0.1782 - val_accuracy: 0.9773\n"
          ]
        },
        {
          "output_type": "execute_result",
          "data": {
            "text/plain": [
              "<keras.callbacks.History at 0x7f7be16e9ad0>"
            ]
          },
          "metadata": {},
          "execution_count": 15
        }
      ],
      "source": [
        "# Fitting the Model Generator\n",
        "model.fit_generator(x_train,steps_per_epoch=len(x_train),epochs=10,validation_data=x_test,validation_steps=len(x_test))"
      ]
    },
    {
      "cell_type": "markdown",
      "metadata": {
        "id": "ZhUBgeYnNPRN"
      },
      "source": [
        "**Saving The Model**"
      ]
    },
    {
      "cell_type": "code",
      "execution_count": 16,
      "metadata": {
        "id": "PRyrPNpzNY6n"
      },
      "outputs": [],
      "source": [
        "model.save('asl_model_84_54.h5')"
      ]
    }
  ],
  "metadata": {
    "accelerator": "GPU",
    "colab": {
      "provenance": []
    },
    "gpuClass": "standard",
    "kernelspec": {
      "display_name": "Python 3",
      "name": "python3"
    },
    "language_info": {
      "name": "python"
    }
  },
  "nbformat": 4,
  "nbformat_minor": 0
}